{
  "nbformat": 4,
  "nbformat_minor": 0,
  "metadata": {
    "colab": {
      "provenance": [],
      "authorship_tag": "ABX9TyMOSXu4nmk1f0NcBirUr4K5",
      "include_colab_link": true
    },
    "kernelspec": {
      "name": "python3",
      "display_name": "Python 3"
    },
    "language_info": {
      "name": "python"
    }
  },
  "cells": [
    {
      "cell_type": "markdown",
      "metadata": {
        "id": "view-in-github",
        "colab_type": "text"
      },
      "source": [
        "<a href=\"https://colab.research.google.com/github/ivanrueda1/ejercicios_basicos_colab/blob/main/condicionales.ipynb\" target=\"_parent\"><img src=\"https://colab.research.google.com/assets/colab-badge.svg\" alt=\"Open In Colab\"/></a>"
      ]
    },
    {
      "cell_type": "markdown",
      "source": [
        "# INSTRUCCIONES CONDICIONALES\n",
        "\n",
        "\n",
        "*    if\n",
        "*   if else\n",
        "*   if elif else\n",
        "\n",
        "\n",
        "\n",
        "\n",
        "\n",
        "\n",
        "\n"
      ],
      "metadata": {
        "id": "SmCur5KhpiBw"
      }
    },
    {
      "cell_type": "code",
      "source": [
        "\n",
        "A=int(input(\"Digite el valor inicial del rango:  \"))\n",
        "B=int(input(\"Digite el valor final del rango:  \"))\n",
        "\n",
        "if A<B:\n",
        "    cant_pares=0\n",
        "    rango=A\n",
        "    while rango<B:\n",
        "        rango=rango+1\n",
        "        p=rango%2\n",
        "        if p==0:\n",
        "            cant_pares=cant_pares+1\n",
        "    print(\"La cantidad de numeros pares en este rango es de \" + str(cant_pares))"
      ],
      "metadata": {
        "colab": {
          "base_uri": "https://localhost:8080/"
        },
        "id": "NJ0gZ5yoqNWn",
        "outputId": "495e0490-5c68-44a2-ed0b-7afab163c90c"
      },
      "execution_count": 3,
      "outputs": [
        {
          "output_type": "stream",
          "name": "stdout",
          "text": [
            "Digite el valor inicial del rango:  8\n",
            "Digite el valor final del rango:  10\n",
            "La cantidad de numeros pares en este rango es de 1\n"
          ]
        }
      ]
    },
    {
      "cell_type": "code",
      "source": [
        "(\"-------------------------------\")\n",
        "print(\"---------MAYOR DE EDAD---------\")\n",
        "print(\"-------------------------------\")\n",
        "\n",
        " #input\n",
        "edad = int(input(\"Digite la edad:  \" ))\n",
        "\n",
        "# processing\n",
        "if edad >= 18:\n",
        "    print(\"La persona es MAYOR DE EDAD\")\n",
        "else:\n",
        "    print(\"La persona es MENOR DE EDAD\")    \n"
      ],
      "metadata": {
        "id": "fo9ZzxG1tc74"
      },
      "execution_count": null,
      "outputs": []
    },
    {
      "cell_type": "code",
      "source": [
        "from math import log \n",
        "\n",
        " # input\n",
        "bandera = False \n",
        "x = float(input(\"Dame el valor del numero x:  \"))\n",
        "y = float(input(\"Dame el valor del numero y:  \"))\n",
        "\n",
        "print(\"Dame la opcion que deseas realizar:  \\n\")\n",
        "\n",
        " # Se despliega el menú para seleccionar la opcion que deseas realizar \n",
        "print(\"1. Sumas\")\n",
        "print(\"2. Restar\")\n",
        "print(\"3. Multiplicar\")\n",
        "print(\"4. Dividir\")\n",
        "print(\"5. Potencia\")\n",
        "print(\"6. Logaritmo\")\n",
        "\n",
        "opcion = int(input(\"Dame la opcion:  \"))\n",
        "\n",
        " # processing\n",
        "if  (opcion == 1): \n",
        "    z = x + y\n",
        "    print(x,\" + \",y)\n",
        "elif (opcion == 2):\n",
        "    z = x - y\n",
        "    print(x, \" - \", y)\n",
        "elif (opcion == 3):\n",
        "    z = x * y\n",
        "    print (x, \" * \",y)\n",
        "elif (opcion == 4 and y != 0):\n",
        "    z = x/y\n",
        "    print(x, \" / \", y)\n",
        "elif (opcion == 4 and y == 0):\n",
        "    print(\"El denominador es igual a cero y  \")\n",
        "    print(\"NO se puede realizar la division\")\n",
        "    bandera = True\n",
        "elif (opcion == 5):\n",
        "    z = pow(x,y)\n",
        "    print(x,\" ^ \", y)\n",
        "elif (opcion == 6 and x > 0):\n",
        "    z = log(x)\n",
        "    print(\"Logoritmo de \", x)\n",
        "elif (opcion == 6 and x <= 0):\n",
        "    print(\"NO se puede calcular el logaritmo.\") \n",
        "    bandera = True\n",
        "else:\n",
        "    print(\"Opcion no valida\")\n",
        "\n",
        "#Se escribe el resultado con otra condicion\n",
        "if (opcion <7 and bandera == False):\n",
        "    print(\"Resultado = \", z)\n",
        "\n"
      ],
      "metadata": {
        "colab": {
          "base_uri": "https://localhost:8080/"
        },
        "id": "Yca7Nqzdr3Iu",
        "outputId": "1e5cbf00-71fc-4b1d-d3d4-8f0102a363fa"
      },
      "execution_count": 9,
      "outputs": [
        {
          "output_type": "stream",
          "name": "stdout",
          "text": [
            "Dame el valor del numero x:  10\n",
            "Dame el valor del numero y:  2\n",
            "Dame la opcion que deseas realizar:  \n",
            "\n",
            "1. Sumas\n",
            "2. Restar\n",
            "3. Multiplicar\n",
            "4. Dividir\n",
            "5. Potencia\n",
            "6. Logaritmo\n",
            "Dame la opcion:  1\n",
            "10.0  +  2.0\n",
            "Resultado =  12.0\n"
          ]
        }
      ]
    }
  ]
}