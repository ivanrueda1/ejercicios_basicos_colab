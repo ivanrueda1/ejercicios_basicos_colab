{
  "nbformat": 4,
  "nbformat_minor": 0,
  "metadata": {
    "colab": {
      "provenance": [],
      "authorship_tag": "ABX9TyNyGNTxoCWLleVdIWYY8xDA",
      "include_colab_link": true
    },
    "kernelspec": {
      "name": "python3",
      "display_name": "Python 3"
    },
    "language_info": {
      "name": "python"
    }
  },
  "cells": [
    {
      "cell_type": "markdown",
      "metadata": {
        "id": "view-in-github",
        "colab_type": "text"
      },
      "source": [
        "<a href=\"https://colab.research.google.com/github/ivanrueda1/ejercicios_basicos_colab/blob/main/Ejercicios_basicos.ipynb\" target=\"_parent\"><img src=\"https://colab.research.google.com/assets/colab-badge.svg\" alt=\"Open In Colab\"/></a>"
      ]
    },
    {
      "cell_type": "markdown",
      "source": [
        "# Ejercicios básicos Python\n",
        "\n",
        "1. Suma de dos números\n",
        "2. Potencia de un número"
      ],
      "metadata": {
        "id": "Ujs3nY83ghol"
      }
    },
    {
      "cell_type": "code",
      "execution_count": null,
      "metadata": {
        "id": "OeUQWX6uWtBZ"
      },
      "outputs": [],
      "source": [
        "# Suma de dos números enteros\n",
        "\n",
        "print(\"---------------------------\")\n",
        "print(\"-----SUMA DOS ENTEROS------\")\n",
        "print(\"---------------------------\")\n",
        "\n",
        "# input\n",
        "x = int(input(\"Digite el valor de x: \"))\n",
        "y = int(input(\"Digite el valor de y: \"))\n",
        "\n",
        "# processing\n",
        "z = x + y\n",
        "\n",
        "# output\n",
        "print(\"La suma de \",x,\" + \",y,\" es \", z )"
      ]
    },
    {
      "cell_type": "code",
      "source": [
        "# POtencia de un número\n",
        "\n",
        "print(\"--------------------\")\n",
        "print(\"------Potencia------\")\n",
        "print(\"--------------------\")\n",
        "\n",
        "# input\n",
        "x = int(input(\"Digite el valor de x: \"))\n",
        "y = int(input(\"Digite el valor de y: \"))\n",
        "\n",
        "# processing\n",
        "z = x**y\n",
        "\n",
        "# output\n",
        "print(x, \"elevado a la \", y, \" es \",z)"
      ],
      "metadata": {
        "colab": {
          "base_uri": "https://localhost:8080/"
        },
        "id": "9V9Fz-vzkt_V",
        "outputId": "5d7c489b-4552-4af4-b8ba-c6ef3d6247f0"
      },
      "execution_count": 5,
      "outputs": [
        {
          "output_type": "stream",
          "name": "stdout",
          "text": [
            "--------------------\n",
            "------Potencia------\n",
            "--------------------\n",
            "Digite el valor de x: 2\n",
            "Digite el valor de y: 10\n",
            "2 elevado a la  10  es  1024\n"
          ]
        }
      ]
    }
  ]
}